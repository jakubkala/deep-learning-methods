{
 "cells": [
  {
   "cell_type": "code",
   "execution_count": 1,
   "metadata": {},
   "outputs": [],
   "source": [
    "import numpy as np\n",
    "import pandas as pd\n",
    "from neural_network_wrapper import NeuralNetworkWrapper"
   ]
  },
  {
   "cell_type": "markdown",
   "metadata": {},
   "source": [
    "### Importing dataset"
   ]
  },
  {
   "cell_type": "code",
   "execution_count": 2,
   "metadata": {},
   "outputs": [
    {
     "data": {
      "text/html": [
       "<div>\n",
       "<style scoped>\n",
       "    .dataframe tbody tr th:only-of-type {\n",
       "        vertical-align: middle;\n",
       "    }\n",
       "\n",
       "    .dataframe tbody tr th {\n",
       "        vertical-align: top;\n",
       "    }\n",
       "\n",
       "    .dataframe thead th {\n",
       "        text-align: right;\n",
       "    }\n",
       "</style>\n",
       "<table border=\"1\" class=\"dataframe\">\n",
       "  <thead>\n",
       "    <tr style=\"text-align: right;\">\n",
       "      <th></th>\n",
       "      <th>x</th>\n",
       "      <th>y</th>\n",
       "    </tr>\n",
       "  </thead>\n",
       "  <tbody>\n",
       "    <tr>\n",
       "      <th>count</th>\n",
       "      <td>10000.000000</td>\n",
       "      <td>10000.000000</td>\n",
       "    </tr>\n",
       "    <tr>\n",
       "      <th>mean</th>\n",
       "      <td>1.475079</td>\n",
       "      <td>-16.023694</td>\n",
       "    </tr>\n",
       "    <tr>\n",
       "      <th>std</th>\n",
       "      <td>2.023999</td>\n",
       "      <td>53.894657</td>\n",
       "    </tr>\n",
       "    <tr>\n",
       "      <th>min</th>\n",
       "      <td>-1.999998</td>\n",
       "      <td>-199.991414</td>\n",
       "    </tr>\n",
       "    <tr>\n",
       "      <th>25%</th>\n",
       "      <td>-0.279958</td>\n",
       "      <td>-19.405991</td>\n",
       "    </tr>\n",
       "    <tr>\n",
       "      <th>50%</th>\n",
       "      <td>1.441744</td>\n",
       "      <td>-1.419671</td>\n",
       "    </tr>\n",
       "    <tr>\n",
       "      <th>75%</th>\n",
       "      <td>3.213335</td>\n",
       "      <td>6.345564</td>\n",
       "    </tr>\n",
       "    <tr>\n",
       "      <th>max</th>\n",
       "      <td>4.999048</td>\n",
       "      <td>86.912722</td>\n",
       "    </tr>\n",
       "  </tbody>\n",
       "</table>\n",
       "</div>"
      ],
      "text/plain": [
       "                  x             y\n",
       "count  10000.000000  10000.000000\n",
       "mean       1.475079    -16.023694\n",
       "std        2.023999     53.894657\n",
       "min       -1.999998   -199.991414\n",
       "25%       -0.279958    -19.405991\n",
       "50%        1.441744     -1.419671\n",
       "75%        3.213335      6.345564\n",
       "max        4.999048     86.912722"
      ]
     },
     "execution_count": 2,
     "metadata": {},
     "output_type": "execute_result"
    }
   ],
   "source": [
    "dataset_train = pd.read_csv(\"data/regression/data.cube.train.10000.csv\")\n",
    "dataset_test = pd.read_csv(\"data/regression/data.cube.test.10000.csv\")\n",
    "\n",
    "dataset_train.describe()"
   ]
  },
  {
   "cell_type": "code",
   "execution_count": 3,
   "metadata": {},
   "outputs": [],
   "source": [
    "X_train = dataset_train[['x']].to_numpy()\n",
    "y_train = dataset_train[['y']].to_numpy()\n",
    "\n",
    "X_test = dataset_train[['x']].to_numpy()\n",
    "y_test = dataset_train[['y']].to_numpy()"
   ]
  },
  {
   "cell_type": "code",
   "execution_count": 4,
   "metadata": {},
   "outputs": [],
   "source": [
    "from data_preprocessing import MinMaxScaler\n",
    "\n",
    "transform_X = MinMaxScaler()\n",
    "transform_y = MinMaxScaler()\n",
    "\n",
    "transform_X.fit(X_train)\n",
    "transform_y.fit(y_train)\n",
    "\n",
    "X_train = transform_X.transform(X_train)\n",
    "y_train = transform_y.transform(y_train)\n",
    "\n",
    "X_test = transform_X.transform(X_test)\n",
    "y_test = transform_y.transform(y_test)"
   ]
  },
  {
   "cell_type": "markdown",
   "metadata": {},
   "source": [
    "### MSE"
   ]
  },
  {
   "cell_type": "code",
   "execution_count": 5,
   "metadata": {
    "scrolled": true
   },
   "outputs": [],
   "source": [
    "NN1 = NeuralNetworkWrapper(input_dim=1,\n",
    "                           neuron_numbers=[5, 3, 1], \n",
    "                           activation_functions=['leaky_relu', 'tanh', 'linear'], \n",
    "                           loss_function='mean_squared_error', \n",
    "                           learning_rate=0.001)"
   ]
  },
  {
   "cell_type": "code",
   "execution_count": 6,
   "metadata": {},
   "outputs": [
    {
     "name": "stdout",
     "output_type": "stream",
     "text": [
      "Loss after 1 epochs: 0.440\n",
      "Loss after 2 epochs: 0.163\n",
      "Loss after 3 epochs: 0.072\n",
      "Loss after 4 epochs: 0.042\n",
      "Loss after 5 epochs: 0.032\n",
      "Loss after 6 epochs: 0.028\n",
      "Loss after 7 epochs: 0.027\n",
      "Loss after 8 epochs: 0.027\n",
      "Loss after 9 epochs: 0.026\n",
      "Loss after 10 epochs: 0.026\n",
      "Loss after 11 epochs: 0.026\n",
      "Loss after 12 epochs: 0.026\n",
      "Loss after 13 epochs: 0.026\n",
      "Loss after 14 epochs: 0.026\n",
      "Loss after 15 epochs: 0.026\n",
      "Final loss: 0.026\n"
     ]
    }
   ],
   "source": [
    "NN1.train(X_train, y_train, 15)"
   ]
  },
  {
   "cell_type": "code",
   "execution_count": 7,
   "metadata": {},
   "outputs": [
    {
     "data": {
      "image/png": "[encoded data removed]",
      "text/plain": [
       "<Figure size 864x432 with 1 Axes>"
      ]
     },
     "metadata": {
      "needs_background": "light"
     },
     "output_type": "display_data"
    }
   ],
   "source": [
    "NN1.plot_loss()"
   ]
  },
  {
   "cell_type": "markdown",
   "metadata": {},
   "source": [
    "### MLSE"
   ]
  },
  {
   "cell_type": "code",
   "execution_count": 8,
   "metadata": {},
   "outputs": [],
   "source": [
    "NN2 = NeuralNetworkWrapper(input_dim=1,\n",
    "                           neuron_numbers=[5, 3, 1], \n",
    "                           activation_functions=['leaky_relu', 'tanh', 'linear'], \n",
    "                           loss_function='mean_squared_log_error', \n",
    "                           learning_rate=0.001)"
   ]
  },
  {
   "cell_type": "code",
   "execution_count": 9,
   "metadata": {},
   "outputs": [
    {
     "name": "stdout",
     "output_type": "stream",
     "text": [
      "Loss after 1 epochs: 0.021\n",
      "Loss after 2 epochs: 0.008\n",
      "Loss after 3 epochs: 0.006\n",
      "Loss after 4 epochs: 0.005\n",
      "Loss after 5 epochs: 0.005\n",
      "Loss after 6 epochs: 0.004\n",
      "Loss after 7 epochs: 0.004\n",
      "Loss after 8 epochs: 0.003\n",
      "Loss after 9 epochs: 0.003\n",
      "Loss after 10 epochs: 0.003\n",
      "Loss after 11 epochs: 0.002\n",
      "Loss after 12 epochs: 0.002\n",
      "Loss after 13 epochs: 0.002\n",
      "Loss after 14 epochs: 0.002\n",
      "Loss after 15 epochs: 0.002\n",
      "Final loss: 0.002\n"
     ]
    }
   ],
   "source": [
    "NN2.train(X_train, y_train, 15)"
   ]
  },
  {
   "cell_type": "code",
   "execution_count": 10,
   "metadata": {},
   "outputs": [
    {
     "data": {
      "image/png": "[encoded data removed]",
      "text/plain": [
       "<Figure size 864x432 with 1 Axes>"
      ]
     },
     "metadata": {
      "needs_background": "light"
     },
     "output_type": "display_data"
    }
   ],
   "source": [
    "NN2.plot_loss()"
   ]
  },
  {
   "cell_type": "code",
   "execution_count": null,
   "metadata": {},
   "outputs": [],
   "source": []
  }
 ],
 "metadata": {
  "kernelspec": {
   "display_name": "Python (ml-cpu)",
   "language": "python",
   "name": "ml-cpu"
  },
  "language_info": {
   "codemirror_mode": {
    "name": "ipython",
    "version": 3
   },
   "file_extension": ".py",
   "mimetype": "text/x-python",
   "name": "python",
   "nbconvert_exporter": "python",
   "pygments_lexer": "ipython3",
   "version": "3.6.9"
  },
  "pycharm": {
   "stem_cell": {
    "cell_type": "raw",
    "metadata": {
     "collapsed": false
    },
    "source": []
   }
  }
 },
 "nbformat": 4,
 "nbformat_minor": 2
}
