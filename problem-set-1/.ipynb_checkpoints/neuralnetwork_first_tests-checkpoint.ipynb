{
 "cells": [
  {
   "cell_type": "code",
   "execution_count": 1,
   "metadata": {},
   "outputs": [],
   "source": [
    "import numpy as np\n",
    "from neuralnetwork import NeuralNetworkClassifier, Layer\n",
    "from sklearn import datasets\n",
    "from sklearn.metrics import accuracy_score\n",
    "from sklearn.model_selection import train_test_split\n",
    "#from nn_basic_functions import normalize_data"
   ]
  },
  {
   "cell_type": "code",
   "execution_count": 2,
   "metadata": {},
   "outputs": [],
   "source": [
    "breast_cancer_data = datasets.load_breast_cancer()\n",
    "\n",
    "X = breast_cancer_data['data']\n",
    "y = breast_cancer_data['target']\n",
    "\n",
    "from sklearn.preprocessing import StandardScaler\n",
    "ss = StandardScaler()\n",
    "# tak nie wolno :(\n",
    "X = ss.fit_transform(X)\n"
   ]
  },
  {
   "cell_type": "code",
   "execution_count": 3,
   "metadata": {},
   "outputs": [],
   "source": [
    "# TODO: where the data should be normalized/standardised?\n",
    "#X_train, X_test = normalize_data(X_train, X_test)\n",
    "# imo this should work like this: NeuralNetwork(X_train, y_train, X_test, y_test)\n",
    "#\n",
    "nn = NeuralNetworkClassifier(learning_rate = 0.0001,\n",
    "                             batch_size = 8)"
   ]
  },
  {
   "cell_type": "code",
   "execution_count": 4,
   "metadata": {},
   "outputs": [],
   "source": [
    "nn.add_layer(Layer(X.shape[1], 10, 'relu'))\n",
    "nn.add_layer(Layer(10, 10, 'relu'))\n",
    "nn.add_layer(Layer(10, 10, 'relu'))\n",
    "nn.add_layer(Layer(10, 1, 'sigmoid'))"
   ]
  },
  {
   "cell_type": "code",
   "execution_count": 5,
   "metadata": {},
   "outputs": [
    {
     "name": "stderr",
     "output_type": "stream",
     "text": [
      "Epoch 1 -- Train accuracy: 0.729: 100%|██████████| 4/4 [00:00<00:00, 374.22it/s]\n",
      "Epoch 2 -- Train accuracy: 0.729: 100%|██████████| 4/4 [00:00<00:00, 396.16it/s]\n",
      "Epoch 3 -- Train accuracy: 0.729: 100%|██████████| 4/4 [00:00<00:00, 421.60it/s]\n",
      "Epoch 4 -- Train accuracy: 0.729: 100%|██████████| 4/4 [00:00<00:00, 456.91it/s]\n",
      "Epoch 5 -- Train accuracy: 0.729: 100%|██████████| 4/4 [00:00<00:00, 326.83it/s]\n",
      "Epoch 6 -- Train accuracy: 0.729: 100%|██████████| 4/4 [00:00<00:00, 323.92it/s]\n",
      "Epoch 7 -- Train accuracy: 0.760: 100%|██████████| 4/4 [00:00<00:00, 509.85it/s]\n",
      "Epoch 8 -- Train accuracy: 0.865: 100%|██████████| 4/4 [00:00<00:00, 299.64it/s]\n",
      "Epoch 9 -- Train accuracy: 0.865: 100%|██████████| 4/4 [00:00<00:00, 247.76it/s]\n",
      "Epoch 10 -- Train accuracy: 0.865: 100%|██████████| 4/4 [00:00<00:00, 320.82it/s]"
     ]
    },
    {
     "name": "stdout",
     "output_type": "stream",
     "text": [
      "Validation accuracy:0.596\n",
      "Validation accuracy:0.596\n",
      "Validation accuracy:0.614\n",
      "Validation accuracy:0.614\n",
      "Validation accuracy:0.632\n",
      "Validation accuracy:0.667\n",
      "Validation accuracy:0.702\n",
      "Validation accuracy:0.719\n",
      "Validation accuracy:0.737\n",
      "Validation accuracy:0.754\n"
     ]
    },
    {
     "name": "stderr",
     "output_type": "stream",
     "text": [
      "\n"
     ]
    }
   ],
   "source": [
    "# \"reset weights\" functionality?\n",
    "# shuffling batches on each epoch\n",
    "nn.train(X, y, epochs=10)"
   ]
  },
  {
   "cell_type": "code",
   "execution_count": 6,
   "metadata": {},
   "outputs": [
    {
     "data": {
      "image/png": "[encoded data removed]",
      "text/plain": [
       "<Figure size 864x432 with 1 Axes>"
      ]
     },
     "metadata": {
      "needs_background": "light"
     },
     "output_type": "display_data"
    }
   ],
   "source": [
    "nn.plot_loss()"
   ]
  }
 ],
 "metadata": {
  "kernelspec": {
   "display_name": "Python 3",
   "language": "python",
   "name": "python3"
  },
  "language_info": {
   "codemirror_mode": {
    "name": "ipython",
    "version": 3
   },
   "file_extension": ".py",
   "mimetype": "text/x-python",
   "name": "python",
   "nbconvert_exporter": "python",
   "pygments_lexer": "ipython3",
   "version": "3.7.0"
  }
 },
 "nbformat": 4,
 "nbformat_minor": 2
}
